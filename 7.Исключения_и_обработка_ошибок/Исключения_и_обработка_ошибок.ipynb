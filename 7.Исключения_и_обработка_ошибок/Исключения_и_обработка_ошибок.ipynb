{
 "cells": [
  {
   "cell_type": "markdown",
   "id": "directed-slovakia",
   "metadata": {},
   "source": [
    "### Задание 1\n",
    "Печатные газеты использовали свой формат дат для каждого выпуска. Для каждой газеты из списка напишите формат указанной даты для перевода в объект datetime:"
   ]
  },
  {
   "cell_type": "code",
   "execution_count": 11,
   "id": "nonprofit-elimination",
   "metadata": {
    "collapsed": true
   },
   "outputs": [
    {
     "name": "stdout",
     "output_type": "stream",
     "text": [
      "The Moscow Times  2002-10-02 00:00:00\n",
      "The Guardian  2013-10-11 00:00:00\n",
      "Daily News  1977-08-18 00:00:00\n"
     ]
    }
   ],
   "source": [
    "from datetime import datetime\n",
    "\n",
    "TheMoscowTimes = 'Wednesday, October 2, 2002'\n",
    "TheGuardian = 'Friday, 11.10.13'\n",
    "DailyNews = 'Thursday, 18 August 1977'\n",
    "date1 = datetime.strptime(TheMoscowTimes, '%A, %B %d, %Y')\n",
    "date2 = datetime.strptime(TheGuardian, '%A, %d.%m.%y')\n",
    "date3 = datetime.strptime(DailyNews, '%A, %d %B %Y')\n",
    "print('The Moscow Times ', date1)\n",
    "print('The Guardian ', date2)\n",
    "print('Daily News ', date3)\n"
   ]
  },
  {
   "cell_type": "markdown",
   "id": "literary-bouquet",
   "metadata": {},
   "source": [
    "### Задание 2\n",
    "\n",
    "Дан поток дат в формате YYYY-MM-DD, в которых встречаются некорректные значения:\n",
    "stream = ['2018-04-02', '2018-02-29', '2018-19-02']\n",
    "Напишите функцию, которая проверяет эти даты на корректность. Т. е. для каждой даты возвращает True (дата корректна) или False (некорректная дата)."
   ]
  },
  {
   "cell_type": "code",
   "execution_count": 17,
   "id": "based-lambda",
   "metadata": {},
   "outputs": [
    {
     "name": "stdout",
     "output_type": "stream",
     "text": [
      "2018-04-02 True\n",
      "2018-02-29 False\n",
      "2018-19-02 False\n"
     ]
    }
   ],
   "source": [
    "from datetime import datetime\n",
    "\n",
    "def chek_date(date):\n",
    "    try:\n",
    "        date = datetime.strptime(date, '%Y-%m-%d')\n",
    "        res = True\n",
    "    except:\n",
    "        res = False\n",
    "    return res\n",
    "\n",
    "stream = ['2018-04-02', '2018-02-29', '2018-19-02']\n",
    "for i in stream:\n",
    "    print(i, chek_date(i))"
   ]
  },
  {
   "cell_type": "markdown",
   "id": "considerable-breath",
   "metadata": {},
   "source": [
    "### Задание 3\n",
    "\n",
    "Напишите функцию date_range, которая возвращает список дат за период от start_date до end_date.\n",
    "Даты должны вводиться в формате YYYY-MM-DD. В случае неверного формата или при start_date > end_date должен возвращаться пустой список."
   ]
  },
  {
   "cell_type": "code",
   "execution_count": 106,
   "id": "female-conviction",
   "metadata": {
    "collapsed": true
   },
   "outputs": [
    {
     "name": "stdout",
     "output_type": "stream",
     "text": [
      "2020-02-01 00:00:00\n",
      "2020-02-02 00:00:00\n",
      "2020-02-03 00:00:00\n",
      "2020-02-04 00:00:00\n",
      "2020-02-05 00:00:00\n",
      "2020-02-06 00:00:00\n",
      "2020-02-07 00:00:00\n",
      "2020-02-08 00:00:00\n",
      "2020-02-09 00:00:00\n",
      "2020-02-10 00:00:00\n",
      "2020-02-11 00:00:00\n",
      "2020-02-12 00:00:00\n",
      "2020-02-13 00:00:00\n",
      "2020-02-14 00:00:00\n",
      "2020-02-15 00:00:00\n",
      "2020-02-16 00:00:00\n",
      "2020-02-17 00:00:00\n",
      "2020-02-18 00:00:00\n",
      "2020-02-19 00:00:00\n",
      "2020-02-20 00:00:00\n",
      "2020-02-21 00:00:00\n",
      "2020-02-22 00:00:00\n",
      "2020-02-23 00:00:00\n",
      "2020-02-24 00:00:00\n",
      "2020-02-25 00:00:00\n",
      "2020-02-26 00:00:00\n",
      "2020-02-27 00:00:00\n",
      "2020-02-28 00:00:00\n",
      "2020-02-29 00:00:00\n"
     ]
    }
   ],
   "source": [
    "from datetime import datetime\n",
    "from datetime import timedelta\n",
    "\n",
    "def date_range(start_date, end_date):\n",
    "    res = []\n",
    "    start_date = datetime.strptime(start_date, '%Y-%m-%d')\n",
    "    end_date = datetime.strptime(end_date, '%Y-%m-%d')\n",
    "    while start_date < end_date:\n",
    "        res.append(start_date)\n",
    "        start_date = start_date + timedelta(days = 1)\n",
    "    return res    \n",
    "\n",
    "start_date = '2020-02-01'\n",
    "end_date = '2020-03-01'\n",
    "list_of_dates = date_range(start_date, end_date)\n",
    "\n",
    "for i in list_of_dates:\n",
    "    print(i)"
   ]
  },
  {
   "cell_type": "markdown",
   "id": "organic-lambda",
   "metadata": {},
   "source": [
    "### Задание4\n",
    "\n",
    "   - Что значит ошибка list index out of range?\n",
    "   - Почему при первом запуске функция работает корректно, а при втором - нет?\n"
   ]
  },
  {
   "cell_type": "code",
   "execution_count": 97,
   "id": "severe-discovery",
   "metadata": {},
   "outputs": [
    {
     "name": "stdout",
     "output_type": "stream",
     "text": [
      "None\n"
     ]
    },
    {
     "name": "stderr",
     "output_type": "stream",
     "text": [
      "Traceback (most recent call last):\n",
      "  File \"<ipython-input-97-4c1813739975>\", line 19, in <module>\n",
      "    delete_and_return_last_user(region, default_list)\n",
      "  File \"<ipython-input-97-4c1813739975>\", line 10, in delete_and_return_last_user\n",
      "    return default_list[DEFAULT_USER_COUNT-2]\n",
      "IndexError: list index out of range\n"
     ]
    }
   ],
   "source": [
    "import traceback\n",
    "\n",
    "DEFAULT_USER_COUNT = 3\n",
    "\n",
    "def delete_and_return_last_user(region, default_list=['A100', 'A101', 'A102']):\n",
    "#     Удаляет из списка default_list последнего пользователя\n",
    "#     и возвращает ID нового последнего пользователя.\n",
    "    element_to_delete = default_list[-1]\n",
    "    default_list.remove(element_to_delete)\n",
    "    return default_list[DEFAULT_USER_COUNT-2]\n",
    "\n",
    "\n",
    "region = ''\n",
    "default_list=['A100', 'A101', 'A102']\n",
    "delete_and_return_last_user(region, default_list)\n",
    "# Тут размер default_list уже равен 2 (в результате действия \"default_list.remove(element_to_delete)\")\n",
    "\n",
    "try:  \n",
    "    delete_and_return_last_user(region, default_list)\n",
    "#   А тут функция делает это опять:\n",
    "#   default_list.remove(element_to_delete), т.е. уменьшит его еще на один элемент.\n",
    "#   После чего размер default_list будет равен уже 1.\n",
    "#   соответственно, действие default_list[DEFAULT_USER_COUNT-2] приведет к ошибке \n",
    "#   (обращаясь к списку по индексу [1]: DEFAULT_USER_COUNT равный 3, уменьшаем на 2),\n",
    "#   И, т.к. размер списка уже равен 1, т.е. максимальный индекс, по которому к нему можно обращаться - 0 (ноль),\n",
    "except:\n",
    "#   мы и получим ошибку \"list index out of range\":\n",
    "    print(traceback.print_exc())\n",
    "   \n",
    "    "
   ]
  }
 ],
 "metadata": {
  "kernelspec": {
   "display_name": "Python 3",
   "language": "python",
   "name": "python3"
  },
  "language_info": {
   "codemirror_mode": {
    "name": "ipython",
    "version": 3
   },
   "file_extension": ".py",
   "mimetype": "text/x-python",
   "name": "python",
   "nbconvert_exporter": "python",
   "pygments_lexer": "ipython3",
   "version": "3.8.5"
  }
 },
 "nbformat": 4,
 "nbformat_minor": 5
}
