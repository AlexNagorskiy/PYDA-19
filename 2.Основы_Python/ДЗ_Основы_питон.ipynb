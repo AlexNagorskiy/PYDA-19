{
 "cells": [
  {
   "cell_type": "code",
   "execution_count": 1,
   "id": "supreme-theta",
   "metadata": {
    "collapsed": true
   },
   "outputs": [
    {
     "name": "stdout",
     "output_type": "stream",
     "text": [
      "1234\n",
      "123\n",
      "Фраза 1 длиннее фразы 2\n"
     ]
    }
   ],
   "source": [
    "phrase_1 = input()\n",
    "phrase_2 = input()\n",
    "\n",
    "if len(phrase_1) > len(phrase_2):\n",
    "    print('Фраза 1 длиннее фразы 2')\n",
    "elif len(phrase_1) < len(phrase_2):\n",
    "    print('Фраза 2 длиннее фразы 1')\n",
    "else:\n",
    "    print('Фразы равной длины')"
   ]
  },
  {
   "cell_type": "code",
   "execution_count": 4,
   "id": "compatible-ghana",
   "metadata": {},
   "outputs": [
    {
     "name": "stdout",
     "output_type": "stream",
     "text": [
      "2200\n",
      "2200  - обычный год\n"
     ]
    }
   ],
   "source": [
    "year = int(input())\n",
    "if year % 400 != 0 and year % 100 == 0:\n",
    "    print(year, ' - обычный год')\n",
    "elif year % 4 == 0:\n",
    "    print(year, ' - високосный год')\n",
    "else:\n",
    "    print(year, ' - обычный год')"
   ]
  },
  {
   "cell_type": "code",
   "execution_count": 6,
   "id": "sufficient-texture",
   "metadata": {},
   "outputs": [
    {
     "name": "stdout",
     "output_type": "stream",
     "text": [
      "Введите день:4\n",
      "Введите месяц:Январь\n",
      "Ваш знак зодиака: Козерог\n"
     ]
    }
   ],
   "source": [
    "day = int(input('Введите день:'))\n",
    "month = input('Введите месяц:')\n",
    "if month == 'Декабрь' and day >= 22 or month == 'Январь' and day <= 20:\n",
    "    print('Ваш знак зодиака: Козерог')\n",
    "elif month == 'Январь' and day >= 21 or month == 'Февраль' and day <= 19:\n",
    "    print('Ваш знак зодиака: Водолей')\n",
    "elif month == 'Февраль' and day >= 20 or month == 'Март' and day <= 20:\n",
    "    print('Ваш знак зодиака: Рыбы')\n",
    "elif month == 'Март' and day >= 21 or month == 'Апрель' and day <= 20:\n",
    "    print('Ваш знак зодиака: Овен')\n",
    "elif month == 'Апрель' and day >= 21 or month == 'Май' and day <= 21:\n",
    "    print('Ваш знак зодиака: Телец')\n",
    "elif month == 'Май' and day >= 22 or month == 'Июнь' and day <= 21:\n",
    "    print('Ваш знак зодиака: Близнецы')\n",
    "elif month == 'Июнь' and day >= 22 or month == 'Июль' and day <= 22:\n",
    "    print('Ваш знак зодиака: Рак')\n",
    "elif month == 'Июль' and day >= 23 or month == 'Август' and day <= 22:\n",
    "    print('Ваш знак зодиака: Лев')\n",
    "elif month == 'Август' and day >= 23 or month == 'Сентябрь' and day <= 22:\n",
    "    print('Ваш знак зодиака: Дева')\n",
    "elif month == 'Сентябрь' and day >= 23 or month == 'Октябрь' and day <= 22:\n",
    "    print('Ваш знак зодиака: Весы')\n",
    "elif month == 'Октябрь' and day >= 23 or month == 'Ноябрь' and day <= 22:\n",
    "    print('Ваш знак зодиака: Скорпион')\n",
    "elif month == 'Ноябрь' and day >= 23 or month == 'Декабрь' and day <= 21:\n",
    "    print('Ваш знак зодиака: Стрелец')"
   ]
  },
  {
   "cell_type": "code",
   "execution_count": 13,
   "id": "connected-campaign",
   "metadata": {
    "scrolled": true
   },
   "outputs": [
    {
     "name": "stdout",
     "output_type": "stream",
     "text": [
      "Упаковка для лыж\n"
     ]
    }
   ],
   "source": [
    "width = 45\n",
    "length = 205\n",
    "height = 50\n",
    "if width < 15 and length < 15 and height < 15:\n",
    "    print('Коробка №1')\n",
    "elif length > 200:\n",
    "    print('Упаковка для лыж')\n",
    "elif 15 < width < 50 or 15 < length < 50 or 15 < height < 50:\n",
    "    print('Коробка №2')\n",
    "else:\n",
    "    print('Стандартная коробка №3')"
   ]
  },
  {
   "cell_type": "code",
   "execution_count": 14,
   "id": "worthy-bryan",
   "metadata": {},
   "outputs": [
    {
     "name": "stdout",
     "output_type": "stream",
     "text": [
      "123321\n",
      "Счастливый билет\n"
     ]
    }
   ],
   "source": [
    "number = input()\n",
    "n1 = int(number[0])\n",
    "n2 = int(number[1])\n",
    "n3 = int(number[2])\n",
    "n4 = int(number[3])\n",
    "n5 = int(number[4])\n",
    "n6 = int(number[5])\n",
    "if n1 + n2 + n3 == n4 + n5 + n6:\n",
    "    print('Счастливый билет')\n",
    "else:\n",
    "    print('Неасчастливый билет')\n"
   ]
  },
  {
   "cell_type": "code",
   "execution_count": 15,
   "id": "figured-christian",
   "metadata": {},
   "outputs": [
    {
     "name": "stdout",
     "output_type": "stream",
     "text": [
      "Введите тип фигуры:Прямоугольник\n",
      "Введите длину стороны A:2\n",
      "Введите длину стороны B:3\n",
      "Площадь прямоугольника:  6.0\n"
     ]
    }
   ],
   "source": [
    "type_figure = input('Введите тип фигуры:')\n",
    "if type_figure == 'Круг':\n",
    "    radius = float(input('Введите радиус круга:'))\n",
    "    sq = 3.1415926535 * radius ** 2\n",
    "    print('Площадь круга: ', sq)\n",
    "elif type_figure == 'Треугольник':\n",
    "    A = float(input('Введите длину стороны A:'))\n",
    "    B = float(input('Введите длину стороны B:'))\n",
    "    C = float(input('Введите длину стороны C:'))\n",
    "    P = (A + B + C) / 2.0\n",
    "    S = (P * (P - A) * (P - B) * (P - C)) ** 0.5\n",
    "    print('Площадь треугольника: ', S)\n",
    "elif type_figure == 'Прямоугольник':\n",
    "    A = float(input('Введите длину стороны A:'))\n",
    "    B = float(input('Введите длину стороны B:'))\n",
    "    S = A * B\n",
    "    print('Площадь прямоугольника: ', S)\n",
    "else:\n",
    "    print('Указанный тип фигуры не найден.')"
   ]
  }
 ],
 "metadata": {
  "kernelspec": {
   "display_name": "Python 3",
   "language": "python",
   "name": "python3"
  },
  "language_info": {
   "codemirror_mode": {
    "name": "ipython",
    "version": 3
   },
   "file_extension": ".py",
   "mimetype": "text/x-python",
   "name": "python",
   "nbconvert_exporter": "python",
   "pygments_lexer": "ipython3",
   "version": "3.8.5"
  }
 },
 "nbformat": 4,
 "nbformat_minor": 5
}
