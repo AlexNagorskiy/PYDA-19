{
 "cells": [
  {
   "cell_type": "markdown",
   "id": "egyptian-spectrum",
   "metadata": {},
   "source": [
    "## Задание 1"
   ]
  },
  {
   "cell_type": "code",
   "execution_count": 2,
   "id": "recorded-essay",
   "metadata": {
    "collapsed": true
   },
   "outputs": [
    {
     "name": "stdout",
     "output_type": "stream",
     "text": [
      "testing\n",
      "t\n"
     ]
    }
   ],
   "source": [
    "word = input()\n",
    "lwrd = len(word)\n",
    "srd = lwrd // 2\n",
    "if lwrd % 2 == 0:    \n",
    "    fs = word[srd-1:srd+1]\n",
    "else:\n",
    "    fs = word[srd:srd+1]\n",
    "print(fs)"
   ]
  },
  {
   "cell_type": "markdown",
   "id": "mysterious-scenario",
   "metadata": {},
   "source": [
    "## Задание 2"
   ]
  },
  {
   "cell_type": "code",
   "execution_count": 4,
   "id": "cardiac-labor",
   "metadata": {
    "collapsed": true
   },
   "outputs": [
    {
     "name": "stdout",
     "output_type": "stream",
     "text": [
      "1\n",
      "2\n",
      "3\n",
      "4\n",
      "5\n",
      "0\n",
      "15\n"
     ]
    }
   ],
   "source": [
    "nmb = int(input())\n",
    "sm = 0\n",
    "if nmb != 0:\n",
    "    while nmb != 0:\n",
    "        sm += nmb\n",
    "        nmb = int(input())\n",
    "print(sm)"
   ]
  },
  {
   "cell_type": "markdown",
   "id": "requested-giant",
   "metadata": {},
   "source": [
    "## Задание 3"
   ]
  },
  {
   "cell_type": "code",
   "execution_count": 5,
   "id": "charming-uruguay",
   "metadata": {},
   "outputs": [
    {
     "name": "stdout",
     "output_type": "stream",
     "text": [
      "Input list boys:Peter, Alex, John, Arthur, Richard\n",
      "Input list girls: Kate, Liza, Kira, Emma, Trisha\n",
      "Идеальные пары:\n",
      "Alex  и  Emma\n",
      "Arthur  и  Kate\n",
      "John  и  Kira\n",
      "Peter  и  Liza\n",
      "Richard  и  Trisha\n"
     ]
    }
   ],
   "source": [
    "boys = input('Input list boys:').split(', ') # Peter, Alex, John, Arthur, Richard\n",
    "boys = sorted(boys)\n",
    "lenboys = len(boys)\n",
    "#print(boys)\n",
    "\n",
    "girls = input('Input list girls: ').split(', ') # Kate, Liza, Kira, Emma, Trisha\n",
    "girls = sorted(girls)\n",
    "lengirls = len(girls)\n",
    "\n",
    "if lenboys == lengirls:\n",
    "    print('Идеальные пары:')\n",
    "    i = 0\n",
    "    while i < lenboys:\n",
    "        print(str(boys[i]), ' и ', str(girls[i]))\n",
    "        i += 1\n",
    "else:\n",
    "    print('Внимание, кто-то может остаться без пары!')"
   ]
  },
  {
   "cell_type": "markdown",
   "id": "distant-structure",
   "metadata": {},
   "source": [
    "## Задание 4"
   ]
  },
  {
   "cell_type": "code",
   "execution_count": 8,
   "id": "accomplished-brush",
   "metadata": {
    "collapsed": true
   },
   "outputs": [
    {
     "name": "stdout",
     "output_type": "stream",
     "text": [
      "Средняя температура в странах:\n",
      "Thailand  -  23.9  C\n",
      "Germany  -  13.8  C\n",
      "Russia  -  3.7  C\n",
      "Poland  -  12.0  C\n"
     ]
    }
   ],
   "source": [
    "countries_temperature = [\n",
    "    ['Thailand', [75.2, 77, 78.8, 73.4, 68, 75.2, 77]],\n",
    "    ['Germany', [57.2, 55.4, 59, 59, 53.6]],\n",
    "    ['Russia', [35.6, 37.4, 39.2, 41, 42.8, 39.2, 35.6]],\n",
    "    ['Poland', [50, 50, 53.6, 57.2, 55.4, 55.4]]\n",
    "]\n",
    "\n",
    "lencntr = len(countries_temperature)\n",
    "i = 0\n",
    "print('Средняя температура в странах:')\n",
    "while i < lencntr:\n",
    "    country = countries_temperature[i][0]\n",
    "    lentmp = len(countries_temperature[i][1])\n",
    "    k = 0\n",
    "    sumtmp = 0\n",
    "    while k < lentmp:\n",
    "        tmp = float(countries_temperature[i][1][k])\n",
    "        sumtmp += tmp\n",
    "        k += 1\n",
    "    srtmp = sumtmp / lentmp\n",
    "    srtmpC = round((srtmp - 32) / 1.8, 1)\n",
    "    i += 1\n",
    "    print(country, ' - ', srtmpC, ' C')"
   ]
  },
  {
   "cell_type": "markdown",
   "id": "agreed-melbourne",
   "metadata": {},
   "source": [
    "## Задание 5"
   ]
  },
  {
   "cell_type": "code",
   "execution_count": 31,
   "id": "operational-musician",
   "metadata": {},
   "outputs": [
    {
     "name": "stdout",
     "output_type": "stream",
     "text": [
      "23.25\n"
     ]
    }
   ],
   "source": [
    "stream = [\n",
    "    '2018-01-01,user1,3',\n",
    "    '2018-01-07,user1,4',\n",
    "    '2018-03-29,user1,1',\n",
    "    '2018-04-04,user1,13',\n",
    "    '2018-01-05,user2,7',\n",
    "    '2018-06-14,user3,4',\n",
    "    '2018-07-02,user3,10',\n",
    "    '2018-03-21,user4,19',\n",
    "    '2018-03-22,user4,4',\n",
    "    '2018-04-22,user4,8',\n",
    "    '2018-05-03,user4,9',\n",
    "    '2018-05-11,user4,11',\n",
    "]\n",
    "\n",
    "user_list = []\n",
    "sum_list = []\n",
    "for el in stream:\n",
    "    current_user = el.split(',')[1]\n",
    "    current_sum = int(el.split(',')[2])\n",
    "    if current_user not in user_list:\n",
    "        user_list.append(current_user)\n",
    "    if len(sum_list) < len(user_list):\n",
    "        sum_list.append(0)\n",
    "    sum_list[user_list.index(current_user)] = sum_list[user_list.index(current_user)] + current_sum\n",
    "\n",
    "medium_on_user = sum(sum_list) / len(sum_list)\n",
    "print(medium_on_user)"
   ]
  },
  {
   "cell_type": "markdown",
   "id": "automotive-gabriel",
   "metadata": {},
   "source": [
    "## Задание 6"
   ]
  },
  {
   "cell_type": "code",
   "execution_count": 44,
   "id": "affiliated-fortune",
   "metadata": {},
   "outputs": [
    {
     "name": "stdout",
     "output_type": "stream",
     "text": [
      "4 8 0 3 4 2 0 3 4 3 3 3 \n",
      "0 3 4\n"
     ]
    }
   ],
   "source": [
    "import copy\n",
    "list_inp = input().split(' ') # 4 8 0 3 4 2 0 3 4 3 3 3 \n",
    "list_num = copy.copy(sorted(list_inp))\n",
    "new_list = []\n",
    "inel = len(list_num)\n",
    "i = 1\n",
    "while i < inel:\n",
    "    if list_num[i] == list_num[i-1]:\n",
    "        if list_num[i] not in new_list:\n",
    "            new_list.append(list_num[i]) \n",
    "    i += 1\n",
    "print(' '.join(new_list))"
   ]
  }
 ],
 "metadata": {
  "kernelspec": {
   "display_name": "Python 3",
   "language": "python",
   "name": "python3"
  },
  "language_info": {
   "codemirror_mode": {
    "name": "ipython",
    "version": 3
   },
   "file_extension": ".py",
   "mimetype": "text/x-python",
   "name": "python",
   "nbconvert_exporter": "python",
   "pygments_lexer": "ipython3",
   "version": "3.8.5"
  }
 },
 "nbformat": 4,
 "nbformat_minor": 5
}
