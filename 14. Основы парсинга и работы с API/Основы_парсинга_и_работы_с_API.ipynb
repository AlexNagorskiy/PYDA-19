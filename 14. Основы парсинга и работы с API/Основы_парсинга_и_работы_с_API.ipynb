{
 "cells": [
  {
   "cell_type": "markdown",
   "id": "recognized-marble",
   "metadata": {},
   "source": [
    "### Задание 1.\n",
    "#### Обязательная часть\n",
    "\n",
    "Будем парсить страницу со свежеми новостям на habr.com/ru/all/.\n",
    "\n",
    "Вам необходимо собирать только те статьи, в которых встречается хотя бы одно требуемое ключевое слово. Эти слова определяем в начале кода в переменной, например:\n",
    "\n",
    "KEYWORDS = ['python', 'парсинг']\n",
    "\n",
    "Поиск вести по всей доступной preview-информации (это информация, доступная непосредственно с текущей страницы).\n",
    "\n",
    "В итоге должен формироваться датафрейм вида: <дата> - <заголовок> - <ссылка>\n"
   ]
  },
  {
   "cell_type": "code",
   "execution_count": 19,
   "id": "infinite-bikini",
   "metadata": {},
   "outputs": [
    {
     "data": {
      "text/html": [
       "<div>\n",
       "<style scoped>\n",
       "    .dataframe tbody tr th:only-of-type {\n",
       "        vertical-align: middle;\n",
       "    }\n",
       "\n",
       "    .dataframe tbody tr th {\n",
       "        vertical-align: top;\n",
       "    }\n",
       "\n",
       "    .dataframe thead th {\n",
       "        text-align: right;\n",
       "    }\n",
       "</style>\n",
       "<table border=\"1\" class=\"dataframe\">\n",
       "  <thead>\n",
       "    <tr style=\"text-align: right;\">\n",
       "      <th></th>\n",
       "      <th>caption</th>\n",
       "      <th>date</th>\n",
       "      <th>url</th>\n",
       "    </tr>\n",
       "  </thead>\n",
       "  <tbody>\n",
       "    <tr>\n",
       "      <th>0</th>\n",
       "      <td>Конец независимой дистрибуции или новый инди-р...</td>\n",
       "      <td>21-04-2021 08:33</td>\n",
       "      <td>https://habr.com/ru/company/audiomania/blog/55...</td>\n",
       "    </tr>\n",
       "    <tr>\n",
       "      <th>1</th>\n",
       "      <td>Как мы взломали шифрование пакетов в BattlEye</td>\n",
       "      <td>20-04-2021 20:14</td>\n",
       "      <td>https://habr.com/ru/company/skillfactory/blog/...</td>\n",
       "    </tr>\n",
       "    <tr>\n",
       "      <th>2</th>\n",
       "      <td>Очень трудно искать чёрную кошку в тёмной комн...</td>\n",
       "      <td>20-04-2021 16:10</td>\n",
       "      <td>https://habr.com/ru/company/timeweb/blog/550276/</td>\n",
       "    </tr>\n",
       "  </tbody>\n",
       "</table>\n",
       "</div>"
      ],
      "text/plain": [
       "                                             caption              date  \\\n",
       "0  Конец независимой дистрибуции или новый инди-р...  21-04-2021 08:33   \n",
       "1      Как мы взломали шифрование пакетов в BattlEye  20-04-2021 20:14   \n",
       "2  Очень трудно искать чёрную кошку в тёмной комн...  20-04-2021 16:10   \n",
       "\n",
       "                                                 url  \n",
       "0  https://habr.com/ru/company/audiomania/blog/55...  \n",
       "1  https://habr.com/ru/company/skillfactory/blog/...  \n",
       "2   https://habr.com/ru/company/timeweb/blog/550276/  "
      ]
     },
     "execution_count": 19,
     "metadata": {},
     "output_type": "execute_result"
    }
   ],
   "source": [
    "import requests\n",
    "from bs4 import BeautifulSoup\n",
    "from datetime import datetime, timedelta\n",
    "import pandas as pd\n",
    "\n",
    "\n",
    "KEYWORDS = ['медиахолдинги', 'мошенники', 'видеосъемка']\n",
    "req = requests.get('https://habr.com/ru/all/')\n",
    "soup = BeautifulSoup(req.text, 'html.parser')\n",
    "posts = soup.find_all('article', class_='post')\n",
    "df = pd.DataFrame()\n",
    "for post in posts:\n",
    "    post_id = post.parent.attrs.get('id')\n",
    "    if not post_id:\n",
    "        continue\n",
    "    post_id = int(post_id.split('_')[-1])\n",
    "    hubs = post.find_all('div', class_='post__text')\n",
    "    for hub in hubs:\n",
    "            hub_lower = hub.text.lower()\n",
    "            for wrd in KEYWORDS:\n",
    "                if wrd in hub_lower:\n",
    "                    title_element = post.find('a', class_='post__title_link')\n",
    "                    title_time = post.find('header', class_='post__meta').text.split('\\n')[len(post.find('header', class_='post__meta').text.split('\\n'))-2]\n",
    "                    if 'сегодня в' in title_time:\n",
    "                        title_time = datetime.now().strftime(\"%d-%m-%Y\") + ' ' + title_time[-5:]\n",
    "                    elif 'вчера в'in title_time:\n",
    "                        title_time = (datetime.now() - timedelta(days=1)).strftime(\"%d-%m-%Y\") + ' ' + title_time[-5:]\n",
    "                    new_row = {'date': title_time, 'caption': title_element.text, 'url': title_element.attrs.get('href')}\n",
    "                    df = df.append(new_row, ignore_index=True)\n",
    "                    break\n",
    "df"
   ]
  },
  {
   "cell_type": "markdown",
   "id": "associate-album",
   "metadata": {},
   "source": [
    "### Задание 2.\n",
    "#### Обязательная часть\n",
    "\n",
    "Написать скрипт, который будет проверять список e-mail адресов на утечку при помощи сервиса Avast Hack Ckeck. \n",
    "\n",
    "Список email-ов задаем переменной в начале кода:\n",
    "\n",
    "EMAIL = [xxx@x.ru, yyy@y.com]\n",
    "\n",
    "В итоге должен формироваться датафрейм со столбцами: <почта> - <дата утечки> - <источник утечки> - <описание утечки>\n",
    "\n",
    "Подсказка: сервис работает при помощи \"скрытого\" API. Внимательно изучите post-запросы.\n"
   ]
  },
  {
   "cell_type": "code",
   "execution_count": 7,
   "id": "polar-density",
   "metadata": {},
   "outputs": [
    {
     "data": {
      "text/plain": [
       "'20-04-2021 15:59'"
      ]
     },
     "execution_count": 7,
     "metadata": {},
     "output_type": "execute_result"
    }
   ],
   "source": [
    "from datetime import datetime\n",
    "datetime.now().strftime(\"%d-%m-%Y\")"
   ]
  }
 ],
 "metadata": {
  "kernelspec": {
   "display_name": "Python 3",
   "language": "python",
   "name": "python3"
  },
  "language_info": {
   "codemirror_mode": {
    "name": "ipython",
    "version": 3
   },
   "file_extension": ".py",
   "mimetype": "text/x-python",
   "name": "python",
   "nbconvert_exporter": "python",
   "pygments_lexer": "ipython3",
   "version": "3.8.5"
  }
 },
 "nbformat": 4,
 "nbformat_minor": 5
}
