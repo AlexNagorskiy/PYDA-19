{
 "cells": [
  {
   "cell_type": "markdown",
   "id": "automotive-vehicle",
   "metadata": {},
   "source": [
    "### Задание 1\n",
    "Создайте numpy array с элементами от числа N до 0 (например, для N = 10 это будет array([9, 8, 7, 6, 5, 4, 3, 2, 1, 0]))."
   ]
  },
  {
   "cell_type": "code",
   "execution_count": 5,
   "id": "static-avenue",
   "metadata": {},
   "outputs": [
    {
     "name": "stdout",
     "output_type": "stream",
     "text": [
      "10\n"
     ]
    },
    {
     "data": {
      "text/plain": [
       "array([9, 8, 7, 6, 5, 4, 3, 2, 1, 0])"
      ]
     },
     "execution_count": 5,
     "metadata": {},
     "output_type": "execute_result"
    }
   ],
   "source": [
    "import numpy as np\n",
    "a = int(input())\n",
    "np.arange(a-1, -1, -1)"
   ]
  },
  {
   "cell_type": "markdown",
   "id": "integral-jason",
   "metadata": {},
   "source": [
    "### Задание 2\n",
    "Создайте диагональную матрицу с элементами от N до 0. Посчитайте сумму ее значений на диагонали."
   ]
  },
  {
   "cell_type": "code",
   "execution_count": 24,
   "id": "continuing-stopping",
   "metadata": {},
   "outputs": [
    {
     "name": "stdout",
     "output_type": "stream",
     "text": [
      "4\n",
      "6\n"
     ]
    }
   ],
   "source": [
    "import numpy as np\n",
    "a = int(input())\n",
    "matr = np.diag(np.arange(a-1, -1, -1), k=0)\n",
    "i = 0\n",
    "j = 0\n",
    "while i < a:\n",
    "    j += (matr[i][i])\n",
    "    i+=1\n",
    "print(j)"
   ]
  },
  {
   "cell_type": "markdown",
   "id": "joint-flexibility",
   "metadata": {},
   "source": [
    "### Задание 3\n",
    "Решите систему уравнений:\n",
    "\n",
    "4x + 2y + z = 4\n",
    "\n",
    "x + 3y = 12\n",
    "\n",
    "5y + 4z = -3"
   ]
  },
  {
   "cell_type": "code",
   "execution_count": 36,
   "id": "compressed-combine",
   "metadata": {},
   "outputs": [
    {
     "data": {
      "text/plain": [
       "array([ 0.46666667,  3.84444444, -5.55555556])"
      ]
     },
     "execution_count": 36,
     "metadata": {},
     "output_type": "execute_result"
    }
   ],
   "source": [
    "import numpy as np\n",
    "from numpy import linalg\n",
    "\n",
    "a = np.array([[4, 2, 1], [1, 3, 0], [0, 5, 4]])\n",
    "b = np.array([4, 12, -3])\n",
    "linalg.solve(a, b)"
   ]
  },
  {
   "cell_type": "markdown",
   "id": "convinced-pattern",
   "metadata": {},
   "source": [
    "### Задание 4\n",
    "В материалах занятия раздел “Задача 4 домашнего задания”"
   ]
  },
  {
   "cell_type": "code",
   "execution_count": 49,
   "id": "bearing-zealand",
   "metadata": {},
   "outputs": [
    {
     "name": "stdout",
     "output_type": "stream",
     "text": [
      "Самый похожий пользователь: 8 (0.9486832980505138)\n"
     ]
    }
   ],
   "source": [
    "users_stats = np.array(\n",
    "    [\n",
    "        [2, 1, 0, 0, 0, 0],\n",
    "        [1, 1, 2, 1, 0, 0],\n",
    "        [2, 0, 1, 0, 0, 0],\n",
    "        [1, 1, 2, 1, 0, 1],\n",
    "        [0, 0, 1, 2, 0, 0],\n",
    "        [0, 0, 0, 0, 0, 5],\n",
    "        [1, 0, 0, 0, 0, 0],\n",
    "        [0, 1, 1, 0, 0, 0],\n",
    "        [0, 0, 0, 1, 1, 3],\n",
    "        [1, 0, 0, 2, 1, 4]\n",
    "    ], \n",
    "    np.int32\n",
    ")\n",
    "next_user_stats = np.array([0, 1, 2, 0, 0, 0])\n",
    "\n",
    "def cosine( a, b ):\n",
    "    aLength = np.linalg.norm( a )\n",
    "    bLength = np.linalg.norm( b )    \n",
    "    return np.dot( a, b ) / ( aLength * bLength )\n",
    "i = 0\n",
    "len_matr = len(users_stats)\n",
    "lst = []\n",
    "while i <  len_matr:\n",
    "    cs = cosine(next_user_stats, users_stats[i])\n",
    "    i += 1\n",
    "    lst.append([i, cs])\n",
    "# можно проще, но захотелось иметь в будущем возможность вывести топ-3, например\n",
    "lst.sort(key = lambda i:-i[1])\n",
    "print(f'Самый похожий пользователь: {lst[0][0]} ({lst[0][1]})')\n",
    "    "
   ]
  }
 ],
 "metadata": {
  "kernelspec": {
   "display_name": "Python 3",
   "language": "python",
   "name": "python3"
  },
  "language_info": {
   "codemirror_mode": {
    "name": "ipython",
    "version": 3
   },
   "file_extension": ".py",
   "mimetype": "text/x-python",
   "name": "python",
   "nbconvert_exporter": "python",
   "pygments_lexer": "ipython3",
   "version": "3.8.5"
  }
 },
 "nbformat": 4,
 "nbformat_minor": 5
}
