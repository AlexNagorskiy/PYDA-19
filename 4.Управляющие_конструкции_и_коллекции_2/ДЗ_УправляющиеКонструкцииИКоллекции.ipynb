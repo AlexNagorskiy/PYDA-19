{
 "cells": [
  {
   "cell_type": "markdown",
   "id": "indonesian-schema",
   "metadata": {},
   "source": [
    "### Задание 1"
   ]
  },
  {
   "cell_type": "code",
   "execution_count": 23,
   "id": "heated-brake",
   "metadata": {},
   "outputs": [
    {
     "name": "stdout",
     "output_type": "stream",
     "text": [
      "{98, 35, 213, 54, 119, 15}\n"
     ]
    }
   ],
   "source": [
    "ids = {'user1': [213, 213, 213, 15, 213], \n",
    "       'user2': [54, 54, 119, 119, 119], \n",
    "       'user3': [213, 98, 98, 35]}\n",
    "unic = set()\n",
    "for key, value in ids.items():\n",
    "    unic = unic.union(set(value))\n",
    "print(unic)\n",
    "    "
   ]
  },
  {
   "cell_type": "markdown",
   "id": "equivalent-jerusalem",
   "metadata": {},
   "source": [
    "### Задание 2"
   ]
  },
  {
   "cell_type": "code",
   "execution_count": 68,
   "id": "altered-gateway",
   "metadata": {},
   "outputs": [
    {
     "name": "stdout",
     "output_type": "stream",
     "text": [
      "Поисковых запросов, содержащих 2 слов(а):42.86%\n",
      "Поисковых запросов, содержащих 3 слов(а):57.14%\n"
     ]
    }
   ],
   "source": [
    "queries = [\n",
    "    'смотреть сериалы онлайн',\n",
    "    'новости спорта',\n",
    "    'афиша кино',\n",
    "    'курс доллара',\n",
    "    'сериалы этим летом',\n",
    "    'курс по питону',\n",
    "    'сериалы про спорт',\n",
    "]\n",
    "lst = [len(words.split(',')[0].split(' ')) for words in queries]\n",
    "lstd = dict.fromkeys(list(set(lst)), 0)\n",
    "for wrd in lst:\n",
    "    lstd[wrd] += 1\n",
    "allz = sum(lstd.values())\n",
    "for key, value in lstd.items():\n",
    "    print(f'Поисковых запросов, содержащих {key} слов(а):{round(value / allz * 100, 2)}%')\n",
    "    "
   ]
  },
  {
   "cell_type": "markdown",
   "id": "correct-tracy",
   "metadata": {},
   "source": [
    "### Задание 3"
   ]
  },
  {
   "cell_type": "code",
   "execution_count": 102,
   "id": "romance-enclosure",
   "metadata": {},
   "outputs": [
    {
     "data": {
      "text/plain": [
       "{'vk': {'revenue': 103, 'cost': 98, 'ROI': 5.1},\n",
       " 'yandex': {'revenue': 179, 'cost': 153, 'ROI': 16.99},\n",
       " 'facebook': {'revenue': 103, 'cost': 110, 'ROI': -6.36},\n",
       " 'adwords': {'revenue': 35, 'cost': 34, 'ROI': 2.94},\n",
       " 'twitter': {'revenue': 11, 'cost': 24, 'ROI': -54.17}}"
      ]
     },
     "execution_count": 102,
     "metadata": {},
     "output_type": "execute_result"
    }
   ],
   "source": [
    "results = {\n",
    "    'vk': {'revenue': 103, 'cost': 98},\n",
    "    'yandex': {'revenue': 179, 'cost': 153},\n",
    "    'facebook': {'revenue': 103, 'cost': 110},\n",
    "    'adwords': {'revenue': 35, 'cost': 34},\n",
    "    'twitter': {'revenue': 11, 'cost': 24},\n",
    "}\n",
    "for key, value in results.items():\n",
    "    value['ROI'] = round((float(value['revenue']) / float(value['cost']) - 1) * 100, 2)\n",
    "results\n"
   ]
  },
  {
   "cell_type": "markdown",
   "id": "removed-nowhere",
   "metadata": {},
   "source": [
    "### Задание 4"
   ]
  },
  {
   "cell_type": "code",
   "execution_count": 115,
   "id": "retained-wheat",
   "metadata": {},
   "outputs": [
    {
     "name": "stdout",
     "output_type": "stream",
     "text": [
      "vk\n"
     ]
    }
   ],
   "source": [
    "stats = {'facebook': 55, 'yandex': 115, 'vk': 120, 'google': 99, 'email': 42, 'ok': 98}\n",
    "print(max(stats, key = stats.get)) "
   ]
  },
  {
   "cell_type": "markdown",
   "id": "liable-stack",
   "metadata": {},
   "source": [
    "### Задание 5"
   ]
  },
  {
   "cell_type": "code",
   "execution_count": 24,
   "id": "smoking-holder",
   "metadata": {},
   "outputs": [
    {
     "name": "stdout",
     "output_type": "stream",
     "text": [
      "['2018-01-01', 'yandex', 'cpc', 100]\n"
     ]
    }
   ],
   "source": [
    "# Результат: {'2018-01-01': {'yandex': {'cpc': 100}}}\n",
    "\n",
    "my_list = ['2018-01-01', 'yandex', 'cpc', 100]\n",
    "res = my_list[-1]\n",
    "for el in (my_list[:-1]):\n",
    "    res = [res for res in my_list]\n",
    "print(res)"
   ]
  },
  {
   "cell_type": "markdown",
   "id": "stable-petersburg",
   "metadata": {},
   "source": [
    "### Задание 6"
   ]
  },
  {
   "cell_type": "code",
   "execution_count": 250,
   "id": "tested-animation",
   "metadata": {},
   "outputs": [
    {
     "name": "stdout",
     "output_type": "stream",
     "text": [
      "Введите количество порций:3\n",
      "Сыр :  210 гр\n",
      "Огурцы :  60 гр\n",
      "Маслины :  30 гр\n",
      "Салат :  30 гр\n",
      "Перец :  60 гр\n",
      "Колбаса :  90 гр\n",
      "Бекон :  90 гр\n",
      "Оливки :  30 гр\n",
      "Томаты :  60 гр\n",
      "Тесто :  300 гр\n",
      "Сахар :  30 гр\n",
      "Лайм :  60 гр\n",
      "Томаты :  6 шт\n",
      "Лимон :  3 шт\n",
      "Оливковое масло :  60 мл\n",
      "Вода :  600 мл\n"
     ]
    }
   ],
   "source": [
    "cook_book = {\n",
    "  'салат': [\n",
    "     {'ingridient_name': 'сыр', 'quantity': 50, 'measure': 'гр'},\n",
    "     {'ingridient_name': 'томаты', 'quantity': 2, 'measure': 'шт'},\n",
    "     {'ingridient_name': 'огурцы', 'quantity': 20, 'measure': 'гр'},\n",
    "     {'ingridient_name': 'маслины', 'quantity': 10, 'measure': 'гр'},\n",
    "     {'ingridient_name': 'оливковое масло', 'quantity': 20, 'measure': 'мл'},\n",
    "     {'ingridient_name': 'салат', 'quantity': 10, 'measure': 'гр'},\n",
    "     {'ingridient_name': 'перец', 'quantity': 20, 'measure': 'гр'}\n",
    "    ],\n",
    "  'пицца': [\n",
    "     {'ingridient_name': 'сыр', 'quantity': 20, 'measure': 'гр'},\n",
    "     {'ingridient_name': 'колбаса', 'quantity': 30, 'measure': 'гр'},\n",
    "     {'ingridient_name': 'бекон', 'quantity': 30, 'measure': 'гр'},\n",
    "     {'ingridient_name': 'оливки', 'quantity': 10, 'measure': 'гр'},\n",
    "     {'ingridient_name': 'томаты', 'quantity': 20, 'measure': 'гр'},\n",
    "     {'ingridient_name': 'тесто', 'quantity': 100, 'measure': 'гр'},   \n",
    "    ],\n",
    "  'лимонад': [\n",
    "     {'ingridient_name': 'лимон', 'quantity': 1, 'measure': 'шт'},\n",
    "     {'ingridient_name': 'вода', 'quantity': 200, 'measure': 'мл'},\n",
    "     {'ingridient_name': 'сахар', 'quantity': 10, 'measure': 'гр'},\n",
    "     {'ingridient_name': 'лайм', 'quantity': 20, 'measure': 'гр'},    \n",
    "    ]\n",
    "}\n",
    "measure = {}\n",
    "for key, value in cook_book.items():\n",
    "    for ing in value:\n",
    "        measure.setdefault(ing['measure'], '')\n",
    "for key_m in measure:\n",
    "    a = {}\n",
    "    for key, value in cook_book.items():\n",
    "        for ing in value:  \n",
    "            if key_m == ing['measure']:\n",
    "                a.setdefault(ing['ingridient_name'], int(0))\n",
    "                a[ing['ingridient_name']] = int(a.get(ing['ingridient_name'])) + int(ing.get('quantity'))\n",
    "    measure[key_m] = a\n",
    "                \n",
    "quantity = int(input('Введите количество порций:'))\n",
    "\n",
    "for key, value in measure.items():\n",
    "    for key_1, value_1 in value.items():\n",
    "        print(key_1.capitalize(), ': ', int(value_1) * quantity, key)\n",
    "    "
   ]
  }
 ],
 "metadata": {
  "kernelspec": {
   "display_name": "Python 3",
   "language": "python",
   "name": "python3"
  },
  "language_info": {
   "codemirror_mode": {
    "name": "ipython",
    "version": 3
   },
   "file_extension": ".py",
   "mimetype": "text/x-python",
   "name": "python",
   "nbconvert_exporter": "python",
   "pygments_lexer": "ipython3",
   "version": "3.8.5"
  }
 },
 "nbformat": 4,
 "nbformat_minor": 5
}
