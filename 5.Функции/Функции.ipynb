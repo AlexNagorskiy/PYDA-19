{
 "cells": [
  {
   "cell_type": "markdown",
   "id": "social-university",
   "metadata": {},
   "source": [
    "### Исходные данные"
   ]
  },
  {
   "cell_type": "code",
   "execution_count": 15,
   "id": "lyric-clear",
   "metadata": {},
   "outputs": [],
   "source": [
    "documents = [\n",
    " {'type': 'passport', 'number': '2207 876234', 'name': 'Василий Гупкин'},\n",
    " {'type': 'invoice', 'number': '11-2', 'name': 'Геннадий Покемонов'},\n",
    " {'type': 'insurance', 'number': '10006', 'name': 'Аристарх Павлов'}\n",
    "]\n",
    "directories = {\n",
    " '1': ['2207 876234', '11-2'],\n",
    " '2': ['10006'],\n",
    " '3': []\n",
    "}\n",
    "\n"
   ]
  },
  {
   "cell_type": "markdown",
   "id": "innovative-alias",
   "metadata": {},
   "source": [
    "### Задание 1"
   ]
  },
  {
   "cell_type": "code",
   "execution_count": 117,
   "id": "sticky-glass",
   "metadata": {
    "scrolled": true
   },
   "outputs": [
    {
     "name": "stdout",
     "output_type": "stream",
     "text": [
      "Введите команду:l\n",
      "№:  2207 876234 , тип:  passport , владелец:  Василий Гупкин , полка хранения:  1\n",
      "№:  11-2 , тип:  invoice , владелец:  Геннадий Покемонов , полка хранения:  1\n",
      "№:  10006 , тип:  insurance , владелец:  Аристарх Павлов , полка хранения:  2\n",
      "Введите команду:l\n",
      "№:  2207 876234 , тип:  passport , владелец:  Василий Гупкин , полка хранения:  1\n",
      "№:  11-2 , тип:  invoice , владелец:  Геннадий Покемонов , полка хранения:  1\n",
      "№:  10006 , тип:  insurance , владелец:  Аристарх Павлов , полка хранения:  2\n",
      "Введите команду:q\n"
     ]
    }
   ],
   "source": [
    "def get_owner():\n",
    "    number = input('Введите номер документа:')\n",
    "    name = ''\n",
    "    for d in documents:\n",
    "        for k, v in d.items():\n",
    "            if v == number:\n",
    "                name = d['name']\n",
    "                break\n",
    "    if name != '':\n",
    "        print('Владелец документа: ', name)\n",
    "    else:\n",
    "        print('Документ не найден в базе')\n",
    "\n",
    "def get_place():\n",
    "    number = input('Введите номер документа:')\n",
    "    place = ''\n",
    "    for k, v in directories.items():\n",
    "        if len(v) > 0:\n",
    "            for i in v:\n",
    "                if number == i:\n",
    "                    place = k    \n",
    "    if place != '':\n",
    "        print('Документ хранится на полке: ', place)\n",
    "    else:\n",
    "        print('Документ не найден в базе')\n",
    "\n",
    "def get_shelves():\n",
    "    i = 0\n",
    "    shelves = ''\n",
    "    for k in directories.keys():\n",
    "        shelves += ' ' + k\n",
    "        i += 1\n",
    "        if i == len(directories):\n",
    "            shelves += '.'\n",
    "        else:\n",
    "            shelves += ', '\n",
    "    return shelves\n",
    "    \n",
    "def get_all_info():\n",
    "    place = ''\n",
    "    for d in documents:\n",
    "        for k, v in d.items():\n",
    "            number = d['number']\n",
    "            for k1, v1 in directories.items():          \n",
    "                if len(v1) > 0:\n",
    "                    for i in v1:\n",
    "                        if number == i:\n",
    "                            place = k1\n",
    "                            break\n",
    "        print('№: ', number, ', тип: ', d['type'], ', владелец: ', d['name'], ', полка хранения: ', place)    \n",
    "\n",
    "def add_place():\n",
    "    number = input('Введите номер полки:')\n",
    "    if number not in directories:\n",
    "        directories.setdefault(number, [])\n",
    "        msg = 'Полка добавлена. '\n",
    "    else:\n",
    "        msg = 'Такая полка уже существует. '\n",
    "    shelves = ''\n",
    "    print(msg, 'Текущий перечень полок: ', get_shelves())\n",
    "#     print(directories)\n",
    "    \n",
    "def del_blank_place():\n",
    "    number = input('Введите номер полки:')\n",
    "    if number in directories:\n",
    "        if len(directories[number]) > 0:\n",
    "            msg = 'На полке есть документа, удалите их перед удалением полки. '\n",
    "        else:\n",
    "            del directories[number]\n",
    "            msg = 'Полка удалена. '\n",
    "    else:\n",
    "        msg = 'Такой полки не существует. '\n",
    "    print(msg, 'Текущий перечень полок: ', get_shelves())\n",
    "#     print(directories)\n",
    "    \n",
    "command = input('Введите команду:').lower().replace(' ', '')\n",
    "lst_cmnd = ['p', 's', 'l', 'ads', 'ds']\n",
    "if command in lst_cmnd or lst_cmnd == 'q':\n",
    "    while command != 'q':\n",
    "        if command == 'p':\n",
    "            get_owner()\n",
    "        elif command == 's':\n",
    "            get_place()\n",
    "        elif command == 'l':\n",
    "            get_all_info()\n",
    "        elif command == 'ads':\n",
    "            add_place()\n",
    "        elif command == 'ds':\n",
    "            del_blank_place()\n",
    "        command = input('Введите команду:').lower().replace(' ', '')\n",
    "else:\n",
    "    print('Команда не распознана, попробуйте ввести одну из следующих комманд: ', ', '.join(lst_cmnd))\n",
    "        \n",
    "    "
   ]
  },
  {
   "cell_type": "markdown",
   "id": "magnetic-trace",
   "metadata": {},
   "source": [
    "### Задание 2"
   ]
  },
  {
   "cell_type": "code",
   "execution_count": null,
   "id": "level-roads",
   "metadata": {},
   "outputs": [],
   "source": [
    "command = input('Введите команду:').lower().replace(' ', '')\n",
    "lst_cmnd = ['ad', 'd', 'm']\n",
    "if command in lst_cmnd or lst_cmnd == 'q':\n",
    "    while command != 'q':\n",
    "        if command == 'ad':\n",
    "            add_doc()\n",
    "        elif command == 'd':\n",
    "            del_doc()\n",
    "        elif command == 'm':\n",
    "            move_doc()\n",
    "        command = input('Введите команду:').lower().replace(' ', '')\n",
    "else:\n",
    "    print('Команда не распознана, попробуйте ввести одну из следующих комманд: ', ', '.join(lst_cmnd))"
   ]
  }
 ],
 "metadata": {
  "kernelspec": {
   "display_name": "Python 3",
   "language": "python",
   "name": "python3"
  },
  "language_info": {
   "codemirror_mode": {
    "name": "ipython",
    "version": 3
   },
   "file_extension": ".py",
   "mimetype": "text/x-python",
   "name": "python",
   "nbconvert_exporter": "python",
   "pygments_lexer": "ipython3",
   "version": "3.8.5"
  }
 },
 "nbformat": 4,
 "nbformat_minor": 5
}
