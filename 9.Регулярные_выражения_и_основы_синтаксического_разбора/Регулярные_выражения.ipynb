{
 "cells": [
  {
   "cell_type": "markdown",
   "id": "intense-spell",
   "metadata": {},
   "source": [
    "### Задание 1\n",
    "Напишите функцию, которая принимает на вход строку и проверяет является ли она валидным транспортным номером (1 буква, 3 цифры, 2 буквы, 2-3 цифры). Обратите внимание, что не все буквы кириллического алфавита используются в транспортных номерах.\n",
    "\n",
    "Если номер валиден, то функция должна возвращать отдельно номер и регион.\n",
    "\n",
    "Примеры работы программы:\n",
    "\n",
    "    car_id = 'A222BC96'\n",
    "\n",
    "Результат: Номер A222BС валиден. Регион: 96\n",
    "\n",
    "    car_id = 'АБ22ВВ193'\n",
    "\n",
    "Результат: Номер не валиден"
   ]
  },
  {
   "cell_type": "code",
   "execution_count": 56,
   "id": "hourly-trade",
   "metadata": {},
   "outputs": [
    {
     "name": "stdout",
     "output_type": "stream",
     "text": [
      "Введите номер: A222BC96\n",
      "Номер A222BC96 валиден. Регион: 96\n"
     ]
    }
   ],
   "source": [
    "import re\n",
    "\n",
    "def valid_num(num):\n",
    "    sp = re.findall(r'\\D{1}\\d{3}\\D{2}\\d{2,3}', num)\n",
    "    if len(sp) != 0:\n",
    "        return(f'Номер {num} валиден. Регион: {num[6:]}')\n",
    "    else:\n",
    "        return('Номер не валиден')\n",
    "        \n",
    "num = input('Введите номер: ')\n",
    "print(valid_num(num))"
   ]
  },
  {
   "cell_type": "markdown",
   "id": "posted-morgan",
   "metadata": {},
   "source": [
    "### Задание 2\n",
    "\n",
    "Напишите функцию, которая будет удалять все последовательные повторы слов из заданной строки при помощи регулярных выражений.\n",
    "\n",
    "Пример работы программы:\n",
    "\n",
    "some_string = 'Напишите функцию функцию, которая будет будет будет будет удалять все все все все последовательные повторы слов из из из из заданной строки строки при помощи регулярных выражений.'\n",
    "\n",
    "Результат:\n",
    "Напишите функцию, которая будет удалять все последовательные повторы слов из заданной строки при помощи регулярных выражений.\n"
   ]
  },
  {
   "cell_type": "code",
   "execution_count": 58,
   "id": "light-carpet",
   "metadata": {},
   "outputs": [
    {
     "name": "stdout",
     "output_type": "stream",
     "text": [
      "Введите строку: Напишите функцию функцию, которая будет будет будет будет удалять все все все все последовательные повторы слов из из из из заданной строки строки при помощи регулярных выражений\n",
      "Напишите функцию которая будет удалять все последовательные повторы слов из заданной строки при помощи регулярных выражений\n"
     ]
    }
   ],
   "source": [
    "import re\n",
    "def del_duplicate(some_string):\n",
    "    return re.sub(r'\\b([^\\W\\d_]+)(\\s+\\1)+\\b', r'\\1', re.sub(r'\\W+', ' ', some_string).strip())\n",
    "\n",
    "some_string = input('Введите строку: ')\n",
    "print(del_duplicate(some_string))"
   ]
  },
  {
   "cell_type": "markdown",
   "id": "seeing-facial",
   "metadata": {},
   "source": [
    "### Задание 3\n",
    "\n",
    "Напишите функцию, которая будет возвращать акроним по переданной в нее строке со словами.\n",
    "\n",
    "Примеры работы программы:\n",
    "\n",
    "    some_words = 'Информационные технологии'\n",
    "\n",
    "Результат: ИТ\n",
    "\n",
    "    some_words = 'Near Field Communication'\n",
    "\n",
    "Результат: NFC\n"
   ]
  },
  {
   "cell_type": "code",
   "execution_count": 74,
   "id": "personalized-fever",
   "metadata": {},
   "outputs": [
    {
     "name": "stdout",
     "output_type": "stream",
     "text": [
      "Введите строку: Near Field Communication\n",
      "NFC\n"
     ]
    }
   ],
   "source": [
    "import re\n",
    "def get_acronym(some_string):\n",
    "    return re.sub(r'\\s+', '',re.sub(r'\\b(\\w)\\w+', r'\\1', some_string).upper())\n",
    "    \n",
    "    \n",
    "some_string = input('Введите строку: ')\n",
    "print(get_acronym(some_string))"
   ]
  },
  {
   "cell_type": "markdown",
   "id": "dressed-southwest",
   "metadata": {},
   "source": [
    "### Задание 4\n",
    "Напишите функцию, которая будет принимать на вход список email-адресов и выводить их распределение по доменным зонам.\n",
    "\n",
    "Пример работы программы:\n",
    "\n",
    "emails = ['test@gmail.com', 'xyz@test.in', 'test@ya.ru', 'xyz@mail.ru', 'xyz@ya.ru', 'xyz@gmail.com']\n",
    "\n",
    "Результат:\n",
    "\n",
    "gmail.com: 2\n",
    "test.in: 1 \n",
    "ya.ru: 2 \n",
    "mail.ru: 1"
   ]
  },
  {
   "cell_type": "code",
   "execution_count": 139,
   "id": "specific-values",
   "metadata": {},
   "outputs": [
    {
     "name": "stdout",
     "output_type": "stream",
     "text": [
      "gmail.com: 2 test.in: 1 ya.ru: 2 mail.ru: 1 "
     ]
    }
   ],
   "source": [
    "import re\n",
    "emails = ['test@gmail.com', 'xyz@test.in', 'test@ya.ru', 'xyz@mail.ru', 'xyz@ya.ru', 'xyz@gmail.com']\n",
    "\n",
    "le = re.sub(r'@', '',' '.join(re.findall(r'@\\S+', ' '.join(emails)))).split(' ')\n",
    "dct ={}\n",
    "for i in le:\n",
    "    dct.setdefault(i, 0)\n",
    "    dct[i] += 1\n",
    "    \n",
    "for k in dct:\n",
    "    print(f'{k}: {dct[k]}', end=' ')\n",
    "    \n"
   ]
  },
  {
   "cell_type": "markdown",
   "id": "olive-bunny",
   "metadata": {},
   "source": [
    "### Задание 5 (необязательное)\n",
    "\n",
    "Напишите функцию, которая будет подсчитывать сколько слов начинается на гласные, а сколько на согласные буквы в тексте (текст может быть написан как с использованием букв кириллицы, так и латиницы).\n",
    "\n",
    "Пример работы программы:\n",
    "\n",
    "some_text = 'Эталонной реализацией Python является интерпретатор CPython, поддерживающий большинство активно используемых платформ. Он распространяется под свободной лицензией Python Software Foundation License, позволяющей использовать его без ограничений в любых приложениях, включая проприетарные.'\n",
    "\n",
    "Результат:\n",
    "\n",
    "Слов на гласные буквы: 9\n",
    "Слов на согласные буквы: 21\n",
    "\n"
   ]
  },
  {
   "cell_type": "code",
   "execution_count": null,
   "id": "enormous-bridge",
   "metadata": {},
   "outputs": [],
   "source": []
  },
  {
   "cell_type": "markdown",
   "id": "present-rental",
   "metadata": {},
   "source": [
    "### Задание 6 (необязательное)\n",
    "Напишите функцию, которая будет проверять номер сотового телефона на валидность (только для российского формата), если он валиден, то переводить его в формат:\n",
    "+7-xxx-xxx-xx-xx\n",
    "Постарайтесь предусмотреть как можно больше адекватных форматов изначального ввода номера. Примеры работы программы:\n",
    "\n",
    "    phone = '+7 955 555-55-55'\n",
    "\n",
    "Результат: +7-950-555-55-55\n",
    "\n",
    "    phone = '8(955)555-55-55'\n",
    "\n",
    "Результат: +7-950-555-55-55\n",
    "\n",
    "    phone = '+7 955 555 55 55'\n",
    "\n",
    "Результат: +7-950-555-55-55\n",
    "\n",
    "    phone = '7(955) 555-55-55'\n",
    "\n",
    "Результат: +7-950-555-55-55\n",
    "\n",
    "    phone = '423-555-55-5555'\n",
    "\n",
    "Результат: Номер не валиден\n",
    "\n",
    "    phone = '123-456-789'\n",
    "\n",
    "Результат: Номер не валиден\n"
   ]
  },
  {
   "cell_type": "code",
   "execution_count": null,
   "id": "cooperative-rogers",
   "metadata": {},
   "outputs": [],
   "source": []
  }
 ],
 "metadata": {
  "kernelspec": {
   "display_name": "Python 3",
   "language": "python",
   "name": "python3"
  },
  "language_info": {
   "codemirror_mode": {
    "name": "ipython",
    "version": 3
   },
   "file_extension": ".py",
   "mimetype": "text/x-python",
   "name": "python",
   "nbconvert_exporter": "python",
   "pygments_lexer": "ipython3",
   "version": "3.8.5"
  }
 },
 "nbformat": 4,
 "nbformat_minor": 5
}
