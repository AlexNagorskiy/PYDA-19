{
 "cells": [
  {
   "cell_type": "markdown",
   "id": "fitting-touch",
   "metadata": {},
   "source": [
    "###  Задание 1"
   ]
  },
  {
   "cell_type": "code",
   "execution_count": 110,
   "id": "related-receptor",
   "metadata": {},
   "outputs": [],
   "source": [
    "import json\n",
    "with open('purchase_log.txt', 'r') as file:\n",
    "    with open('purchases.txt', 'w') as file_dict:\n",
    "        new_dict = {}\n",
    "        for i, line in enumerate(file):\n",
    "            if i > 0:\n",
    "                n_line = json.loads(line)\n",
    "                new_dict.setdefault(n_line['user_id'], n_line['category'])\n",
    "        file_dict.write(str(new_dict))"
   ]
  },
  {
   "cell_type": "code",
   "execution_count": 273,
   "id": "distinguished-investment",
   "metadata": {},
   "outputs": [],
   "source": [
    "import json\n",
    "with open('purchase_log.txt', 'r') as purchase_log:\n",
    "    purchase = purchase_log.readlines()\n",
    "    new_dict = {}\n",
    "    for i, line in enumerate(purchase):\n",
    "        if i > 0:\n",
    "            n_line = json.loads(line)\n",
    "            key = n_line['user_id']\n",
    "            if key == None:\n",
    "                continue\n",
    "            value = n_line['category']\n",
    "            new_dict.setdefault(key, [])\n",
    "            if value not in new_dict[key]:\n",
    "                new_dict[key].append(value)\n",
    "    purchase_log.close()\n",
    "with open('visit_log.csv', 'r') as visit_log:\n",
    "    with open('funnel.csv', 'w') as funnel:\n",
    "        for i, line in enumerate(visit_log):\n",
    "            pl = line.strip().split(',')\n",
    "            if i == 0:\n",
    "                pl.append('category')\n",
    "                funnel.write(','.join(pl) + '\\n')\n",
    "            else:\n",
    "                value = new_dict.get(pl[0])\n",
    "                if value != None:\n",
    "                    value = '[' + ','.join(value) + ']'\n",
    "                    pl.append(value)\n",
    "                    funnel.write(', '.join(pl) + '\\n')\n",
    "                "
   ]
  }
 ],
 "metadata": {
  "kernelspec": {
   "display_name": "Python 3",
   "language": "python",
   "name": "python3"
  },
  "language_info": {
   "codemirror_mode": {
    "name": "ipython",
    "version": 3
   },
   "file_extension": ".py",
   "mimetype": "text/x-python",
   "name": "python",
   "nbconvert_exporter": "python",
   "pygments_lexer": "ipython3",
   "version": "3.8.5"
  }
 },
 "nbformat": 4,
 "nbformat_minor": 5
}
